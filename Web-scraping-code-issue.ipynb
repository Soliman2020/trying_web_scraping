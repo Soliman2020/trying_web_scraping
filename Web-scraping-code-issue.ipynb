{
 "cells": [
  {
   "cell_type": "markdown",
   "metadata": {},
   "source": [
    "# Code tested for one file and passed well.\n",
    "\n",
    "Using soup.find_all and for loop to collecting text."
   ]
  },
  {
   "cell_type": "code",
   "execution_count": 1,
   "metadata": {},
   "outputs": [
    {
     "name": "stdout",
     "output_type": "stream",
     "text": [
      "Argo (2012)\n",
      "90\n",
      "96\n"
     ]
    }
   ],
   "source": [
    "from bs4 import BeautifulSoup\n",
    "\n",
    "title_x=[]\n",
    "aud_score = []\n",
    "Tomoto_meter=[]\n",
    "\n",
    "\n",
    "file_path=r'D:/Data Analysis Pro/FWD/Intro to Data Analysis/Gathering Data/rt-html/rt_html/argo_2012.html'\n",
    "with open(file_path,encoding='UTF-8') as file:\n",
    "    soup = BeautifulSoup(file,'lxml')\n",
    "\n",
    "###\n",
    "\n",
    "movie_title=soup.find_all('h1',{'id':'movie-title','class':'title clearfix visible-xs','data-type':'title'})\n",
    "for i in range(len(movie_title)):\n",
    "    title_x.append(movie_title[i].text.strip())\n",
    "str=' '\n",
    "print(str.join(title_x))\n",
    "\n",
    "###\n",
    "\n",
    "score = soup.find_all('span',{'class':'superPageFontColor','style':'vertical-align:top'})\n",
    "for i in range(len(score)):\n",
    "    aud_score.append(score[i].text)\n",
    "\n",
    "print(aud_score[0][:-1])\n",
    "\n",
    "###\n",
    "\n",
    "rate = soup.find_all('span',{'class':'meter-value superPageFontColor'})\n",
    "for i in range(len(rate)):\n",
    "    Tomoto_meter.append(rate[i].text)\n",
    "\n",
    "print(Tomoto_meter[0][:-1])"
   ]
  },
  {
   "cell_type": "markdown",
   "metadata": {},
   "source": [
    "# Strange arrays sizes after applying on the all folder!\n"
   ]
  },
  {
   "cell_type": "code",
   "execution_count": 2,
   "metadata": {},
   "outputs": [
    {
     "name": "stdout",
     "output_type": "stream",
     "text": [
      "88\n",
      "100\n",
      "199\n"
     ]
    }
   ],
   "source": [
    "from bs4 import BeautifulSoup\n",
    "import os\n",
    "import pandas as pd\n",
    "\n",
    "df_list = []\n",
    "title_x=[]\n",
    "aud_score = []\n",
    "Tomoto_meter=[]\n",
    "# title=[]\n",
    "# audience_score=[]\n",
    "# num_audience_ratings=[]\n",
    "\n",
    "\n",
    "folder = r'D:\\Data Analysis Pro\\FWD\\Intro to Data Analysis\\Gathering Data\\rt-html\\rt_html'\n",
    "for movie_html in os.listdir(folder):\n",
    "    with open(os.path.join(folder, movie_html)) as file:\n",
    "        soup=BeautifulSoup(file,'lxml')\n",
    "        ##\n",
    "\n",
    "        movie_title=soup.find_all('h1',{'id':'movie-title','class':'title clearfix visible-xs'})\n",
    "        for i in range(len(movie_title)):\n",
    "            title_x.append(movie_title[i].text.strip())\n",
    "\n",
    "        ##\n",
    "\n",
    "        score = soup.find_all('span',{'class':'superPageFontColor','style':'vertical-align:top'})\n",
    "        for i in range(len(score)):\n",
    "            aud_score.append(score[i].text)\n",
    "\n",
    "        ##\n",
    "        \n",
    "        rate = soup.find_all('span',{'class':'meter-value superPageFontColor'})\n",
    "\n",
    "        for i in range(len(rate)):\n",
    "            Tomoto_meter.append(rate[i].text)\n",
    "\n",
    "\n",
    "        df_list={'title': title_x,\n",
    "                'audience_score': aud_score,\n",
    "                'Tomato Meter': Tomoto_meter}\n",
    "\n",
    "\n",
    "# df = pd.DataFrame(df_list,columns = ['title', 'audience_score', 'Tomato Meter'])\n",
    "\n",
    "# df.head()\n",
    "\n",
    "print(len(title_x))\n",
    "print(len(aud_score))\n",
    "print(len(Tomoto_meter))\n"
   ]
  }
 ],
 "metadata": {
  "interpreter": {
   "hash": "f21f68be3446d6c759d6bd217776a2954224ce1727c57e1951f776819e1257d1"
  },
  "kernelspec": {
   "display_name": "Python 3.9.9 64-bit (windows store)",
   "language": "python",
   "name": "python3"
  },
  "language_info": {
   "codemirror_mode": {
    "name": "ipython",
    "version": 3
   },
   "file_extension": ".py",
   "mimetype": "text/x-python",
   "name": "python",
   "nbconvert_exporter": "python",
   "pygments_lexer": "ipython3",
   "version": "3.9.9"
  },
  "orig_nbformat": 4
 },
 "nbformat": 4,
 "nbformat_minor": 2
}
